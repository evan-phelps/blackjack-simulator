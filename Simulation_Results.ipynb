{
 "cells": [
  {
   "cell_type": "code",
   "execution_count": 20,
   "metadata": {},
   "outputs": [],
   "source": [
    "%matplotlib inline\n",
    "import matplotlib as mpl\n",
    "from matplotlib import pyplot as plt\n",
    "import numpy as np"
   ]
  },
  {
   "cell_type": "code",
   "execution_count": 62,
   "metadata": {},
   "outputs": [],
   "source": [
    "strategy_dealer, strategy_basic = [], []\n",
    "with open('100x100_2strats.csv', 'r') as fin:\n",
    "    for line in fin:\n",
    "        v2, v1 = line.strip().split(',')\n",
    "        strategy_dealer.append(float(v1))\n",
    "        strategy_basic.append(float(v2))"
   ]
  },
  {
   "cell_type": "code",
   "execution_count": 63,
   "metadata": {},
   "outputs": [
    {
     "data": {
      "image/png": "[encoded data removed]",
      "text/plain": [
       "<matplotlib.figure.Figure at 0x7fc4716e9dd8>"
      ]
     },
     "metadata": {},
     "output_type": "display_data"
    },
    {
     "data": {
      "image/png": "[encoded data removed]",
      "text/plain": [
       "<matplotlib.figure.Figure at 0x7fc471355f98>"
      ]
     },
     "metadata": {},
     "output_type": "display_data"
    }
   ],
   "source": [
    "m1 = np.mean(strategy_dealer)\n",
    "s1 = np.std(strategy_dealer)\n",
    "x0, x1 = round(400*(m1-5*s1))/400, round(400*(m1+5*s1))/400\n",
    "h1 = plt.hist(strategy_dealer, bins=np.arange(x0,x1,0.005))\n",
    "y0,y1 = plt.ylim()\n",
    "plt.vlines(m1, y0, y1, linestyles='dashed')\n",
    "plt.vlines(m1-3*s1, y0, y1)\n",
    "plt.vlines(m1+3*s1, y0, y1)\n",
    "plt.ylim(y0,y1)\n",
    "plt.text(0.55, 0.75, '%.4f'%m1,\n",
    "         horizontalalignment='left',\n",
    "         verticalalignment='center',\n",
    "         transform=plt.gca().transAxes)\n",
    "plt.show()\n",
    "\n",
    "m2 = np.mean(strategy_basic)\n",
    "s2 = np.std(strategy_basic)\n",
    "x0, x1 = round(400*(m2-5*s2))/400, round(400*(m2+5*s2))/400\n",
    "h2 = plt.hist(strategy_basic, bins=np.arange(x0,x1,0.005))\n",
    "y0,y1 = plt.ylim()\n",
    "plt.vlines(m2, y0, y1, linestyles='dashed')\n",
    "plt.vlines(m2-3*s2, y0, y1)\n",
    "plt.vlines(m2+3*s2, y0, y1)\n",
    "plt.ylim(y0,y1)\n",
    "plt.text(0.55, 0.75, '%.4f'%m2,\n",
    "         horizontalalignment='left',\n",
    "         verticalalignment='center',\n",
    "         transform=plt.gca().transAxes)\n",
    "plt.show()"
   ]
  },
  {
   "cell_type": "code",
   "execution_count": 5,
   "metadata": {},
   "outputs": [
    {
     "data": {
      "text/plain": [
       "'-0.025'"
      ]
     },
     "execution_count": 5,
     "metadata": {},
     "output_type": "execute_result"
    }
   ],
   "source": [
    "s1"
   ]
  },
  {
   "cell_type": "code",
   "execution_count": null,
   "metadata": {},
   "outputs": [],
   "source": []
  }
 ],
 "metadata": {
  "kernelspec": {
   "display_name": "Python 3",
   "language": "python",
   "name": "python3"
  },
  "language_info": {
   "codemirror_mode": {
    "name": "ipython",
    "version": 3
   },
   "file_extension": ".py",
   "mimetype": "text/x-python",
   "name": "python",
   "nbconvert_exporter": "python",
   "pygments_lexer": "ipython3",
   "version": "3.6.4"
  }
 },
 "nbformat": 4,
 "nbformat_minor": 2
}
